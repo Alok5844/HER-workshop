{
 "cells": [
  {
   "cell_type": "code",
   "execution_count": 3,
   "id": "4a6ec0bf",
   "metadata": {},
   "outputs": [],
   "source": [
    "import os\n",
    "import json\n",
    "import random\n",
    "import numpy as np\n",
    "import pandas as pd\n",
    "from PIL import Image\n",
    "from sklearn.model_selection import train_test_split\n",
    "import torch\n",
    "import torch.nn as nn\n",
    "import torch.optim as optim\n",
    "from torchvision import transforms\n",
    "from torch.utils.data import Dataset, DataLoader\n",
    "import torchvision.models as models\n",
    "\n",
    "\n",
    "#For Distrubuted (also we can use torch.nn.parallel.DistributedDataParallel instead)\n",
    "from torch.nn.parallel import DistributedDataParallel"
   ]
  },
  {
   "cell_type": "code",
   "execution_count": null,
   "id": "f41bb168",
   "metadata": {},
   "outputs": [],
   "source": [
    "################################\n",
    "#Mixed precision with Apex\n",
    "from apex import amp\n",
    "from apex.optimizers import FusedAdam"
   ]
  },
  {
   "cell_type": "code",
   "execution_count": null,
   "id": "faa47468",
   "metadata": {},
   "outputs": [],
   "source": [
    "device = torch.device(\"cuda\" if torch.cuda.is_available() else \"cpu\")\n",
    "device"
   ]
  },
  {
   "cell_type": "code",
   "execution_count": null,
   "id": "9b786f1b",
   "metadata": {},
   "outputs": [],
   "source": [
    "try:\n",
    "    os.makedirs(\"./saved\")\n",
    "except FilesExistsError:\n",
    "    #directory already exists error\n",
    "    pass "
   ]
  },
  {
   "cell_type": "code",
   "execution_count": null,
   "id": "292d112b",
   "metadata": {},
   "outputs": [],
   "source": [
    "parser = argparse.ArgumentParser()\n",
    "#  For Distrubuted : Parse for the local rank argument , which will be supplied\n",
    "#automatically by torch.distrubuted.launch\n",
    "parser.add_argument(\"--local_rank\", default=0, type=int)\n",
    "args = parser.parse_args()"
   ]
  },
  {
   "cell_type": "code",
   "execution_count": null,
   "id": "942ceb72",
   "metadata": {},
   "outputs": [],
   "source": [
    "config = dicts{\n",
    "    TRAIN_CSV = \"../data/train.csv\",\n",
    "    TEST_CSV = \"../data/test.csv\",\n",
    "    IMAGE_PATH = \"../data/images\",\n",
    "    VOCAB = \"labels.json\"\n",
    "    pretrained_path = \"./pretrained/resnet50-0676ba61.pth \",\n",
    "    saved_paths = \"./saved/resnet50.pt\",\n",
    "    lr=0.001,\n",
    "    EPOCHS = 10,\n",
    "    BATCH_SIZE= 32,\n",
    "    IMAGE_SIZE =224,\n",
    "    TRAIN_VALID_SPLIT =0.2,\n",
    "    ##################################################\n",
    "    #For Performance Tuning\n",
    "    device=device,\n",
    "    SEED= 42\n",
    "    pin_memory=True,\n",
    "    num_workers=8,\n",
    "    ditstributed = True,\n",
    "    world_size =4\n",
    "    USE_AMP = False\n",
    "    channel_last=False \n",
    "} "
   ]
  },
  {
   "cell_type": "code",
   "execution_count": null,
   "id": "57a27b8c",
   "metadata": {},
   "outputs": [],
   "source": [
    "if config.distributed:\n",
    "    #FOR distributed : Set the device  according to local rank\n",
    "    torch.cuda.set_devices(args.local_rank)\n",
    "    #for Distributed : Intialized the backend . torch.distributed.launch will provide\n",
    "    #enviornment varibales and requires that you use init_methods 'env://'\n",
    "    torch.distributed.init_process_group(backend='nccl',\n",
    "                                        init_method='env://')"
   ]
  },
  {
   "cell_type": "code",
   "execution_count": null,
   "id": "f45f7fd3",
   "metadata": {},
   "outputs": [],
   "source": [
    "#for custom operators , you might need to set python seed\n",
    "random.seed(config.SEED)\n",
    "#if you are using any of libraries you are usingthar rely on NUMPY, you can seed global the Numpy \n",
    "np.random.seed(config.SEED)\n",
    "#Prevent Random Noise Generator for CPU and GPU using torch\n",
    "torch.manual_seed(config.SEED)\n",
    "torch.cuda_manual(config.SEED) "
   ]
  },
  {
   "cell_type": "markdown",
   "id": "4c17a2ec",
   "metadata": {},
   "source": [
    "Data manipulation"
   ]
  },
  {
   "cell_type": "code",
   "execution_count": null,
   "id": "2f233d28",
   "metadata": {},
   "outputs": [],
   "source": [
    "train_df = pd.read_csv(config.TRAIN_CSV)\n",
    "test_df = pd.read_csv(config.TEST_CSV)\n",
    "f = open(config.VOCAB)\n",
    "vocab = json.load(f)\n",
    "\n",
    "df_names = train_df[\"image_id\"].append(test_df[\"images_id\"], ignore_index= True).tolist()\n",
    "def create_fname(path,extension):\n",
    "    def add_extension(fname):\n",
    "        return os.path.join(path,fname)+extension\n",
    "    return add_extension\n",
    "jpeg_extension_creator = create_fname(config.IMAGE_PATH, \"PATH\")\n",
    "train_df[\"image_id\"] = train_df[\"image_id\"].apply(jpeg_extension_creator)\n",
    "test_df[\"image_id\"] = test_df[\"image_id\"].apply(jpeg_extension_creator)\n",
    "for label in vocab:\n",
    "    train_df.loc[train_df[label]==1, \"label\"]= vocab[label]\n",
    "train_df[\"label\"] = train_df[\"label\"].astype(int)"
   ]
  },
  {
   "cell_type": "code",
   "execution_count": null,
   "id": "0672360d",
   "metadata": {},
   "outputs": [],
   "source": [
    "train_df_X, valid_df_X, train_df_y, valid_df_y = train_test_split(train_df[\"image_id\"],\n",
    "                                                                 train_df[\"label\"],\n",
    "                                                                 test_size = config.TRAIN_VALID_SPLIT)"
   ]
  },
  {
   "cell_type": "code",
   "execution_count": null,
   "id": "cd29c82a",
   "metadata": {},
   "outputs": [],
   "source": [
    "train_df_split= pd.DataFrame(data = {\"image_id\": train_df_X, \"label\": train_df_y})\n",
    "train_df_split.to_csv(\"../data/train_split.csv\", sep= ',', index = False)\n",
    "\n",
    "valid_df_split= pd.DataFrame(data = {\"image_id\": valid_df_X, \"label\": valid_df_y})\n",
    "valid_df_split.to_csv(\"../data/train_split.csv\", sep= ',', index = False)"
   ]
  },
  {
   "cell_type": "code",
   "execution_count": null,
   "id": "6de61442",
   "metadata": {},
   "outputs": [],
   "source": [
    "data_transforms = {\n",
    "    'train': transforms.Compose([\n",
    "        transforms.RandomResizedCrop((config.IMAGE_SIZE, config.IMAGE_SIZE)),\n",
    "        transforms.RandomHorizontalFlip(),\n",
    "        transforms.ToTensor()\n",
    "        transforms.Normalize([0.485,0.456,0.406], [0.229,0.224.0.225])\n",
    "    ]),\n",
    "    'val':transforms.Compose([\n",
    "        transforms.RandomResizedCrop((config.IMAGE_SIZE, config.IMAGE_SIZE)),\n",
    "        transforms.ToTensor()\n",
    "        transforms.Normalize([0.485,0.456,0.486], [0.229,0.224.0.225])\n",
    "    ]),\n",
    "}"
   ]
  },
  {
   "cell_type": "code",
   "execution_count": null,
   "id": "b4e03db0",
   "metadata": {},
   "outputs": [],
   "source": [
    "class PlantPathologyDataset(Dataset):\n",
    "    def __init__(self, x,y, coab, transforms):\n",
    "        self.x = x #file path in CSV\n",
    "        self.y = y#labe in csv\n",
    "        self.vocab = vocab #Dictionary\n",
    "        self.transforms = transforms\n",
    "        \n",
    "    def __len__(self):\n",
    "        return len(self.x)\n",
    "    \n",
    "    def __getitem__(self,idx): #File None --> Preproced 3D Tensors\n",
    "        fname = self.x.iloc[idx]\n",
    "        label = self.yloc[idx]\n",
    "        image = Image.open(fname)\n",
    "        \n",
    "        if self.transforms:\n",
    "            image = self.transforms(image)\n",
    "            \n",
    "        return image, label #[3,224,224], [0-3]   "
   ]
  },
  {
   "cell_type": "code",
   "execution_count": null,
   "id": "129c24d9",
   "metadata": {},
   "outputs": [],
   "source": [
    "train_ds = PlantPathologyDataset(train_df_X,\n",
    "                                train_df_y,\n",
    "                                vocab,\n",
    "                                data_transforms['train'])\n",
    "valid_ds = PlantPathologyDataset(valid_df_X,\n",
    "                                valid_df_y,\n",
    "                                vocab,\n",
    "                                data_transforms['val'])\n",
    "\n",
    "\n",
    "#######################################################\n",
    "train_sampler = distributedSampler(\n",
    "train_ds,\n",
    "num_replicas = config.world_size,\n",
    "ranks = args.local_rank)\n",
    "###############################################\n",
    "#if this creating distrubuted data across differnt device we can keep the shuffle\n",
    "#in DataLoader to false\n",
    "\n",
    "train_dl = DataLoader(train_ds,\n",
    "                     batch_size = config.BATCH_SIZE,\n",
    "                     shuffle = False ,\n",
    "                     num_workers = config.num_workers,\n",
    "                     pin_memory= True)\n",
    "valid_dl = DataLoader(valid_ds,\n",
    "                     batch_size = config.BATCH_SIZE,\n",
    "                     shuffle = False,\n",
    "                     num_workers = config.num_workers,\n",
    "                     pin_memory= True)"
   ]
  },
  {
   "cell_type": "code",
   "execution_count": null,
   "id": "77a73d20",
   "metadata": {},
   "outputs": [],
   "source": [
    "#can use model = model.resnet50(pretrained = True)\n",
    "\n",
    "#for download model from \"https://download.putorch.org/models/restnet50-0676ba61.pth\"\n",
    "\n",
    "model = models.resnet50(pretrained=False)\n",
    "num_ftrs = model.fc.in_features\n",
    "model.fc = nn.Sequential(nn.Linear(num_ftrs,512),\n",
    "                         nn.ReLU(),\n",
    "                         nn.Dropout(p=0.3),\n",
    "                         nn.Linear(512,4))\n",
    "model = model.to(device)\n",
    "model.load_state_dict(torch.load(MODEL_PATH))\n",
    "model.eval()"
   ]
  },
  {
   "cell_type": "code",
   "execution_count": null,
   "id": "9b42f654",
   "metadata": {},
   "outputs": [],
   "source": [
    "if config.channels_last:\n",
    "    model =model.to(config.device, memory_format = torch.channels_last)#CHW-> HCW\n",
    "else:\n",
    "    model = model.to(config.device)\n",
    "    "
   ]
  },
  {
   "cell_type": "code",
   "execution_count": null,
   "id": "8d7a2bfc",
   "metadata": {},
   "outputs": [],
   "source": [
    "if config.USE_AMP:\n",
    "    optimizer = FusedAdam(model.parameters(), config.lr)\n",
    "    model,optimizer= amp.intialize(model,optimizer, opt_level=\"O2\")#O1/O2/O3\n",
    "else :\n",
    "    optimizer = optim.Adam(model.parameters(), config.lr)\n",
    "    \n",
    "    \n",
    "if config.distributed:\n",
    "    #For Distributed after amp.intialize wrap the model with\n",
    "    #torch.nn.parallel.distributedDataParalell\n",
    "    #port this model to differnt devices\n",
    "    model = torch.nn.parallel.DistributedDataParallel(model,\n",
    "                                                     device_ids = [args.local_ranks],\n",
    "                                                     output_device = args.local_rank)\n",
    "#loss Function\n",
    "criterion = nn.CrossEntropyLoss()"
   ]
  },
  {
   "cell_type": "code",
   "execution_count": null,
   "id": "4ec6b91b",
   "metadata": {},
   "outputs": [],
   "source": [
    "def train_model(model,criterion, optimizer, num_epochs=10):\n",
    "    \n",
    "    train.cuda.synchronize()\n",
    "    since = time.time()\n",
    "    batch_ct = 0\n",
    "    example_ct = 0\n",
    "    for epoch in range(num_epochs):\n",
    "        print('Epoch{}/{}'.format(epoch, num_epochs-1))\n",
    "        print('-'*10)\n",
    "        \n",
    "        #training\n",
    "        model.train()\n",
    "        for x,y in train_dl: #BS=32 [BS,3,224,224]\n",
    "            if config.channels_last:\n",
    "                x =x.to(config.device, memory_format=torch.channels_last) #CHW--> HCW\n",
    "            else:\n",
    "                x = x.to(config.device)\n",
    "            y = y.to(config.device) #CHW--> #HWC\n",
    "            \n",
    "            \n",
    "            \n",
    "            \n",
    "            \n",
    "            \n",
    "            #optimizer.zero_grad()\n",
    "            optimzer.zero_grad(set_to_none= True)\n",
    "            \n",
    "            \n",
    "            train_logits = model(x)\n",
    "            -, train_preds = torch.max(train_logits)\n",
    "            train_loss = criterion(train_logits,y)\n",
    "            \n",
    "            #Apply backward pass on scaled loss function\n",
    "            if config.USE_AMP:\n",
    "                with amp.scale_loss(train_loss, optimizer) as scaled_loss:\n",
    "                    scaled_loss.backward()\n",
    "                    loss = scaled_loss\n",
    "                    \n",
    "            else:\n",
    "                train_loss= loss.backward() #this where we get W_gradients\n",
    "                \n",
    "            \n",
    "        #validation\n",
    "        model.eval()\n",
    "        running_loss = 0.0\n",
    "        running_corrects = 0\n",
    "        total=0\n",
    "        \n",
    "        with torch.no_grad():\n",
    "            for x,y valid_dl:\n",
    "                if config.channels_last:\n",
    "                    x = x.to(config.device, memory_format= torch.channels_last)\n",
    "                else:\n",
    "                    x= x.to(config.device)\n",
    "                y= y.to(config.device)\n",
    "                valid_logits = model(x)\n",
    "                -, valid_preds = torch.max(valid_logits,y)\n",
    "                running_loss += valid_loss.item() * x.size(0)\n",
    "                running_corrects += torch.sum(valid_preds == y.data)\n",
    "                total += y.size(0)\n",
    "                \n",
    "        epoch_loss = running_loss/len(valid_ds)\n",
    "        epoch_acc = running_corrects.double()/ len(valid_ds)\n",
    "        print(\"valid loss is {}\".format(epoch_loss))\n",
    "        print(\"valid accuracy is {}\".format(epoch_acc.cpu()))\n",
    "        \n",
    "    torch.cuda.synchronize()\n",
    "    time_elasped = time.time() -since\n",
    "    print('Training complete in {:0f}n {:0f}s'.format(\n",
    "    time_elasped //60, time_elasped % 60))\n",
    "        \n",
    "    torch.save(model.state_dict(), config.saved_path)  \n",
    "    \n",
    "    \n",
    "train_model(model, criterion, optimizer, num_epochs = config.EPOCHS)    "
   ]
  },
  {
   "cell_type": "code",
   "execution_count": null,
   "id": "9f5e6600",
   "metadata": {},
   "outputs": [],
   "source": [
    "#run with this command\n",
    "# !python -m torch.distributed.launch --nproc_per_node=4 Train_ddp.py"
   ]
  },
  {
   "cell_type": "code",
   "execution_count": null,
   "id": "e7513a4b",
   "metadata": {},
   "outputs": [],
   "source": []
  },
  {
   "cell_type": "code",
   "execution_count": null,
   "id": "d2ec1aec",
   "metadata": {},
   "outputs": [],
   "source": []
  },
  {
   "cell_type": "code",
   "execution_count": null,
   "id": "a77d818b",
   "metadata": {},
   "outputs": [],
   "source": []
  },
  {
   "cell_type": "code",
   "execution_count": null,
   "id": "3afaa96b",
   "metadata": {},
   "outputs": [],
   "source": []
  },
  {
   "cell_type": "code",
   "execution_count": null,
   "id": "450ce4e4",
   "metadata": {},
   "outputs": [],
   "source": []
  },
  {
   "cell_type": "code",
   "execution_count": null,
   "id": "418cdcba",
   "metadata": {},
   "outputs": [],
   "source": []
  },
  {
   "cell_type": "code",
   "execution_count": null,
   "id": "f6aa789b",
   "metadata": {},
   "outputs": [],
   "source": []
  },
  {
   "cell_type": "code",
   "execution_count": null,
   "id": "9f8bf15c",
   "metadata": {},
   "outputs": [],
   "source": []
  },
  {
   "cell_type": "code",
   "execution_count": null,
   "id": "f4d8e8b9",
   "metadata": {},
   "outputs": [],
   "source": []
  },
  {
   "cell_type": "code",
   "execution_count": null,
   "id": "15d05dcb",
   "metadata": {},
   "outputs": [],
   "source": []
  },
  {
   "cell_type": "code",
   "execution_count": null,
   "id": "386f9a00",
   "metadata": {},
   "outputs": [],
   "source": []
  },
  {
   "cell_type": "code",
   "execution_count": null,
   "id": "10aa3242",
   "metadata": {},
   "outputs": [],
   "source": []
  },
  {
   "cell_type": "code",
   "execution_count": null,
   "id": "e85efd4f",
   "metadata": {},
   "outputs": [],
   "source": []
  },
  {
   "cell_type": "code",
   "execution_count": null,
   "id": "2431cbea",
   "metadata": {},
   "outputs": [],
   "source": []
  },
  {
   "cell_type": "code",
   "execution_count": null,
   "id": "82fb255e",
   "metadata": {},
   "outputs": [],
   "source": []
  },
  {
   "cell_type": "code",
   "execution_count": null,
   "id": "7c31687d",
   "metadata": {},
   "outputs": [],
   "source": []
  },
  {
   "cell_type": "code",
   "execution_count": null,
   "id": "197eab55",
   "metadata": {},
   "outputs": [],
   "source": []
  },
  {
   "cell_type": "code",
   "execution_count": null,
   "id": "c2344ef7",
   "metadata": {},
   "outputs": [],
   "source": []
  },
  {
   "cell_type": "code",
   "execution_count": null,
   "id": "94e1c199",
   "metadata": {},
   "outputs": [],
   "source": []
  },
  {
   "cell_type": "code",
   "execution_count": null,
   "id": "fa52e09b",
   "metadata": {},
   "outputs": [],
   "source": []
  },
  {
   "cell_type": "code",
   "execution_count": null,
   "id": "b4e90774",
   "metadata": {},
   "outputs": [],
   "source": []
  },
  {
   "cell_type": "code",
   "execution_count": null,
   "id": "16243505",
   "metadata": {},
   "outputs": [],
   "source": []
  },
  {
   "cell_type": "code",
   "execution_count": null,
   "id": "d12c7548",
   "metadata": {},
   "outputs": [],
   "source": []
  },
  {
   "cell_type": "code",
   "execution_count": null,
   "id": "1251cb5d",
   "metadata": {},
   "outputs": [],
   "source": []
  }
 ],
 "metadata": {
  "kernelspec": {
   "display_name": "Python 3 (ipykernel)",
   "language": "python",
   "name": "python3"
  },
  "language_info": {
   "codemirror_mode": {
    "name": "ipython",
    "version": 3
   },
   "file_extension": ".py",
   "mimetype": "text/x-python",
   "name": "python",
   "nbconvert_exporter": "python",
   "pygments_lexer": "ipython3",
   "version": "3.9.7"
  }
 },
 "nbformat": 4,
 "nbformat_minor": 5
}
