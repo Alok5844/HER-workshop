{
 "cells": [
  {
   "cell_type": "markdown",
   "id": "4495594d-a46b-4f23-8251-dd036403efcc",
   "metadata": {},
   "source": [
    "Tensors are a fundamental concept in mathematics and, in the context of machine learning, form the basic building blocks for data representation and computation in frameworks like PyTorch. Here's a simplified explanation:\n",
    "\n",
    "  <img src=\"Images/Tensor.jpg\" alt=\"Alt Text\" width=\"60%\" height=\"60%\">\n",
    "\n",
    "### What is a Tensor?\n",
    "\n",
    "- **In Simple Terms:**\n",
    "  - Think of a tensor as a container for data.\n",
    "  - It's like a multi-dimensional array or a generalization of matrices.\n",
    "  - Scalars (single numbers), vectors (1D arrays), and matrices (2D arrays) are all special cases of tensors.\n",
    "\n",
    "- **Dimensions:**\n",
    "  - Scalars have 0 dimensions.\n",
    "  - Vectors have 1 dimension (e.g., a list of numbers).\n",
    "  - Matrices have 2 dimensions (e.g., a table of numbers).\n",
    "  - Tensors can have more than 3 dimensions.\n",
    "\n",
    "- **Key Characteristics:**\n",
    "  - **Data Container:** Tensors store data of the same type (e.g., all integers or all floats).\n",
    "  - **Shape:** Describes the size or number of elements along each dimension.\n",
    "  - **Rank:** The number of dimensions in a tensor.\n",
    "  - **Operations:** Tensors support various mathematical operations like addition, multiplication, etc.\n",
    "\n",
    "\n",
    "\n",
    "\n",
    "  <img src=\"Images/Tensor.png\" alt=\"Alt Text\" width=\"60%\" height=\"60%\">\n",
    "\n",
    "\n",
    "### Examples:\n",
    "\n",
    "1. **Scalar (0D Tensor):**\n",
    "   ```python\n",
    "   scalar = 42\n",
    "   ```\n",
    "\n",
    "2. **Vector (1D Tensor):**\n",
    "   ```python\n",
    "   vector = [1, 2, 3, 4]\n",
    "   ```\n",
    "\n",
    "3. **Matrix (2D Tensor):**\n",
    "   ```python\n",
    "   matrix = [\n",
    "       [1, 2, 3],\n",
    "       [4, 5, 6],\n",
    "       [7, 8, 9]\n",
    "   ]\n",
    "   ```\n",
    "\n",
    "4. **3D Tensor:**\n",
    "   ```python\n",
    "   # 3D tensor (2x3x4)\n",
    "   tensor_3d = [\n",
    "       [\n",
    "           [1, 2, 3, 4],\n",
    "           [5, 6, 7, 8],\n",
    "           [9, 10, 11, 12]\n",
    "       ],\n",
    "       [\n",
    "           [13, 14, 15, 16],\n",
    "           [17, 18, 19, 20],\n",
    "           [21, 22, 23, 24]\n",
    "       ]\n",
    "   ]\n",
    "   ```\n",
    "\n",
    "\n",
    "\n",
    "\n",
    "### More elaborated examples are given below.\n",
    "\n"
   ]
  },
  {
   "cell_type": "code",
   "execution_count": null,
   "id": "32144d10-8039-4f7e-84ae-055c60f77ea5",
   "metadata": {},
   "outputs": [],
   "source": [
    "import torch\n",
    "import numpy as np"
   ]
  },
  {
   "cell_type": "markdown",
   "id": "9a46265f-a858-4e18-b91d-5a2b6c3061e1",
   "metadata": {},
   "source": [
    "### Rank 0 tensor "
   ]
  },
  {
   "cell_type": "code",
   "execution_count": null,
   "id": "16ca88c2-0d61-4fec-832f-fe7c44218228",
   "metadata": {},
   "outputs": [],
   "source": [
    "x0 = torch.tensor(1)\n",
    "x0.shape, x0.ndim"
   ]
  },
  {
   "cell_type": "code",
   "execution_count": null,
   "id": "6c96999e-219a-4855-97ed-4367f7bd3258",
   "metadata": {},
   "outputs": [],
   "source": [
    "len(x0.shape)"
   ]
  },
  {
   "cell_type": "markdown",
   "id": "7f837f50-b6e6-4550-9f7e-9997cef7bcce",
   "metadata": {},
   "source": [
    "### Rank 1 tensor "
   ]
  },
  {
   "cell_type": "code",
   "execution_count": null,
   "id": "af86cfcb-2314-44e1-91c4-cf2bb4a52471",
   "metadata": {},
   "outputs": [],
   "source": [
    "x1 = torch.tensor([1, 2, 3])\n",
    "print(type(x1))\n",
    "x1.shape, x1.ndim"
   ]
  },
  {
   "cell_type": "code",
   "execution_count": null,
   "id": "0329d66f-c92c-4db6-905f-66b5e7d022d8",
   "metadata": {},
   "outputs": [],
   "source": [
    "len(x1.shape) # this tell us that it is a rank one tensor with three elements"
   ]
  },
  {
   "cell_type": "code",
   "execution_count": null,
   "id": "c3e68eaa-2a81-4f77-a632-e7ef93276a42",
   "metadata": {},
   "outputs": [],
   "source": [
    "y1 = torch.tensor([1, 2, 3, 4])\n",
    "y1.shape, y1.ndim\n"
   ]
  },
  {
   "cell_type": "code",
   "execution_count": null,
   "id": "20ba168d-1edd-48c6-a3ca-69f50fba8708",
   "metadata": {},
   "outputs": [],
   "source": [
    "len(y1.shape) # this tell us that it is a rank one tensor with four elements  "
   ]
  },
  {
   "cell_type": "markdown",
   "id": "d3287686-025e-4707-b571-f3b8ad4128f0",
   "metadata": {},
   "source": [
    "**Note:** \n",
    "\n",
    "### A tensor's rank tells us how many indexes are needed to refer to (acces to) a specific element within the tensor.\n",
    "\n",
    "### If we say that a tensor is a rank 2 tensor, we mean that the tensor has 2 dimensions, or equivalently, the tensor has two axes"
   ]
  },
  {
   "cell_type": "markdown",
   "id": "78ddaf07-9a6c-49c4-82a9-2f83ed4fe7fa",
   "metadata": {},
   "source": [
    "### Rank 2 tensor "
   ]
  },
  {
   "cell_type": "code",
   "execution_count": null,
   "id": "09d3118f-848f-4d84-98d6-1e032776a049",
   "metadata": {},
   "outputs": [],
   "source": [
    "dd = [\n",
    "    [1,2,3],\n",
    "    [4,5,6],\n",
    "    [7,8,9]\n",
    "]"
   ]
  },
  {
   "cell_type": "code",
   "execution_count": null,
   "id": "9c453fde-eefb-4909-b6f3-002def95df52",
   "metadata": {},
   "outputs": [],
   "source": [
    "t =torch.tensor(dd)"
   ]
  },
  {
   "cell_type": "code",
   "execution_count": null,
   "id": "546f5629-46ed-4282-8cff-98d7f9450d7f",
   "metadata": {},
   "outputs": [],
   "source": [
    "type(t)"
   ]
  },
  {
   "cell_type": "code",
   "execution_count": null,
   "id": "e444496d-c0f3-432a-920a-ef96e8f4d250",
   "metadata": {},
   "outputs": [],
   "source": [
    "t.shape, t.ndim"
   ]
  },
  {
   "cell_type": "code",
   "execution_count": null,
   "id": "54e21129-8738-4674-a504-c49e418ffbe6",
   "metadata": {},
   "outputs": [],
   "source": [
    "len(t.shape) # this tell us that it is a rank two tensor with 3 elements "
   ]
  },
  {
   "cell_type": "code",
   "execution_count": null,
   "id": "08fe5e43-debd-4953-8b61-826dd6908d04",
   "metadata": {},
   "outputs": [],
   "source": [
    "dd1 = [\n",
    "    [1,2,3,4],\n",
    "    [4,5,6,4],\n",
    "    [7,8,9,5]\n",
    "]"
   ]
  },
  {
   "cell_type": "code",
   "execution_count": null,
   "id": "5f846185-6d3b-479b-ac70-104e20bf857b",
   "metadata": {},
   "outputs": [],
   "source": [
    "tt =torch.tensor(dd1)"
   ]
  },
  {
   "cell_type": "code",
   "execution_count": null,
   "id": "0f355605-3f37-4224-9539-173951fc2fe0",
   "metadata": {},
   "outputs": [],
   "source": [
    "tt.shape, tt.ndim"
   ]
  },
  {
   "cell_type": "code",
   "execution_count": null,
   "id": "70713363-1cb5-4ee1-930a-102ec2c13680",
   "metadata": {},
   "outputs": [],
   "source": [
    "len(tt.shape) # this tell us that it is a rank two tensor with 4 elements "
   ]
  },
  {
   "cell_type": "code",
   "execution_count": null,
   "id": "5d2718a1-00e7-4e5e-81d8-04e43c72787b",
   "metadata": {},
   "outputs": [],
   "source": [
    "dd1[0]"
   ]
  },
  {
   "cell_type": "code",
   "execution_count": null,
   "id": "4ee6ef46-9847-4c65-be41-b655457b8da9",
   "metadata": {},
   "outputs": [],
   "source": [
    "dd1[1]"
   ]
  },
  {
   "cell_type": "code",
   "execution_count": null,
   "id": "7ec13bb8-c65b-48bf-9ccc-0401297c64ac",
   "metadata": {},
   "outputs": [],
   "source": [
    "dd1[2]"
   ]
  },
  {
   "cell_type": "code",
   "execution_count": null,
   "id": "5398ddbc-649f-486a-a17b-fd1237daa39c",
   "metadata": {},
   "outputs": [],
   "source": [
    "#dd1[3]"
   ]
  },
  {
   "cell_type": "code",
   "execution_count": null,
   "id": "51ba333d-f5ae-4d77-b76d-ab40f340e614",
   "metadata": {},
   "outputs": [],
   "source": [
    "dd1[0][0]"
   ]
  },
  {
   "cell_type": "code",
   "execution_count": null,
   "id": "dfeafef2-a29e-4cc0-9ad8-c370f0d8c025",
   "metadata": {},
   "outputs": [],
   "source": [
    "dd1[0][2]"
   ]
  },
  {
   "cell_type": "code",
   "execution_count": null,
   "id": "f267d5bf-27fd-4dc5-b1c8-81d44f391f8a",
   "metadata": {},
   "outputs": [],
   "source": [
    "dd1[0][3]"
   ]
  },
  {
   "cell_type": "markdown",
   "id": "ea334a44-0f49-4aff-8646-389e89fb9eb7",
   "metadata": {},
   "source": [
    "#### Note that, with tensors, the elements of the last axis are always numbers. Every other axis will contain n-dimensional arrays"
   ]
  },
  {
   "cell_type": "markdown",
   "id": "4a163078-a3df-42d2-9683-5ae6fe0671cb",
   "metadata": {},
   "source": [
    "### Rank 3 tensor "
   ]
  },
  {
   "cell_type": "code",
   "execution_count": null,
   "id": "4591b3e2-3512-4b4c-a996-08a4774ec082",
   "metadata": {},
   "outputs": [],
   "source": [
    "x3 = np.array([[[56, 183, 1],\n",
    "               [65, 164, 0]],\n",
    "              [[85, 176, 1],\n",
    "               [44, 164, 0]]])"
   ]
  },
  {
   "cell_type": "code",
   "execution_count": null,
   "id": "d84fea20-03e5-487a-9b9b-23ed429be6a0",
   "metadata": {},
   "outputs": [],
   "source": [
    "t4 = torch.tensor(x3)"
   ]
  },
  {
   "cell_type": "code",
   "execution_count": null,
   "id": "06479306-012f-4232-b19c-2234957efab1",
   "metadata": {},
   "outputs": [],
   "source": [
    "t4"
   ]
  },
  {
   "cell_type": "code",
   "execution_count": null,
   "id": "cfb9e888-72dd-4710-bf47-38e9244af40e",
   "metadata": {},
   "outputs": [],
   "source": [
    "t4.shape, t4.ndim"
   ]
  },
  {
   "cell_type": "code",
   "execution_count": null,
   "id": "38aa7a71-c302-4d3d-b14f-544b4f788b8e",
   "metadata": {},
   "outputs": [],
   "source": [
    "len(t4.shape)"
   ]
  },
  {
   "cell_type": "code",
   "execution_count": null,
   "id": "65b9213a-0f0a-41f3-ad3b-ae7a6b98a41c",
   "metadata": {},
   "outputs": [],
   "source": [
    "t4[0]"
   ]
  },
  {
   "cell_type": "code",
   "execution_count": null,
   "id": "8b625bf2-ccb9-44e8-ac9c-6c50c9a60f6f",
   "metadata": {},
   "outputs": [],
   "source": [
    "t4[1]"
   ]
  },
  {
   "cell_type": "code",
   "execution_count": null,
   "id": "c0d45ecc-d600-416b-9673-87208e38816b",
   "metadata": {},
   "outputs": [],
   "source": [
    "#t4[2]"
   ]
  },
  {
   "cell_type": "code",
   "execution_count": null,
   "id": "ba60a387-2903-4619-b807-91341bfe5784",
   "metadata": {},
   "outputs": [],
   "source": [
    "t4[0][0]"
   ]
  },
  {
   "cell_type": "code",
   "execution_count": null,
   "id": "cef0fcb3-a7bf-4cd5-85e2-646c83483699",
   "metadata": {},
   "outputs": [],
   "source": [
    "t4[0][1]"
   ]
  },
  {
   "cell_type": "code",
   "execution_count": null,
   "id": "32cacb34-fe46-4c55-94d6-a84e30232c62",
   "metadata": {},
   "outputs": [],
   "source": [
    "t4[1][0]"
   ]
  },
  {
   "cell_type": "code",
   "execution_count": null,
   "id": "63c4d692-7cfd-41d5-99cb-fbd48068dc43",
   "metadata": {},
   "outputs": [],
   "source": [
    "t4[1][1]"
   ]
  },
  {
   "cell_type": "code",
   "execution_count": null,
   "id": "aeba646e-38c8-43ba-9bac-57c06a09b256",
   "metadata": {},
   "outputs": [],
   "source": [
    "t4[0][0][0]"
   ]
  },
  {
   "cell_type": "markdown",
   "id": "45f0cbe5-0a6d-47ad-afb6-4aadab62c59f",
   "metadata": {},
   "source": [
    "\n",
    "\n",
    "### Use in Machine Learning:\n",
    "\n",
    "- **Data Representation:**\n",
    "  - Tensors are used to represent input data, model parameters, and output in machine learning models.\n",
    "\n",
    "- **Computations:**\n",
    "  - Neural networks perform computations using tensors during training and inference.\n",
    "\n",
    "- **Gradient Descent:**\n",
    "  - Tensors help in computing gradients, which are crucial for optimization algorithms like gradient descent.\n",
    "\n",
    "In summary, tensors are a versatile way to represent and manipulate data in a structured manner, making them a foundational concept in the field of machine learning and deep learning."
   ]
  },
  {
   "cell_type": "code",
   "execution_count": null,
   "id": "35ca5fc3-54d7-46db-9e83-64da83b9efbf",
   "metadata": {},
   "outputs": [],
   "source": []
  }
 ],
 "metadata": {
  "kernelspec": {
   "display_name": "Python 3 (ipykernel)",
   "language": "python",
   "name": "python3"
  },
  "language_info": {
   "codemirror_mode": {
    "name": "ipython",
    "version": 3
   },
   "file_extension": ".py",
   "mimetype": "text/x-python",
   "name": "python",
   "nbconvert_exporter": "python",
   "pygments_lexer": "ipython3",
   "version": "3.10.12"
  }
 },
 "nbformat": 4,
 "nbformat_minor": 5
}
